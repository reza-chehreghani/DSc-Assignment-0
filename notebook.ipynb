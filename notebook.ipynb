{
 "cells": [
  {
   "cell_type": "markdown",
   "id": "2ecfbb4b0c704e67",
   "metadata": {
    "collapsed": false
   },
   "source": [
    "# Web Scraping and Introductory Data Analysis\n",
    "\n",
    "Welcome to Homework 0, where we will delve into web scraping and perform an introductory data analysis. This homework will be a hands-on exercise that will help you become familiar with the process of extracting data from websites and conducting basic statistical analysis. \n",
    "\n",
    "## Objectives\n",
    "\n",
    "By the end of this homework, you will be able to:\n",
    "\n",
    "1. Set up a Python environment with the necessary libraries for web scraping and data analysis.\n",
    "2. Write a web scraping script using Beautiful Soup and Selenium to collect data from a website.\n",
    "3. Sample from the collected dataset and compare the statistics of the sample and the population.\n",
    "   \n",
    "## Tasks\n",
    "\n",
    "1. **Environment Setup**: Install the required libraries such as Beautiful Soup, Selenium, pandas, numpy, matplotlib, and seaborn.\n",
    "\n",
    "2. **Web Scraping**: Write a script to scrape transaction data from [Etherscan.io](https://etherscan.io/txs). Use Selenium to interact with the website and Beautiful Soup to parse the HTML content.\n",
    "\n",
    "3. **Data Sampling**: Once the data is collected, create a sample from the dataset. Compare the sample statistics (mean and standard deviation) with the population statistics.\n",
    "\n",
    "\n",
    "## Deliverables\n",
    "\n",
    "1. A Jupyter notebook with all the code and explanations.\n",
    "2. A detailed report on the findings, including the comparison of sample and population statistics.\n",
    "Note: You can include the report in your notebook.\n",
    "\n",
    "## Getting Started\n",
    "\n",
    "Begin by setting up your Python environment and installing the necessary libraries. Then, proceed with the web scraping task, ensuring that you handle any potential issues such as rate limiting. Once you have the data, move on to the data sampling and statistical analysis tasks. \n",
    "\n",
    "Remember to document your process and findings in the Jupyter notebook, and to include visualizations where appropriate to illustrate your results. <br>\n",
    "Good luck, and happy scraping!"
   ]
  },
  {
   "cell_type": "markdown",
   "id": "1ca352a49724d191",
   "metadata": {
    "collapsed": false
   },
   "source": [
    "## Data Collection (Etherscan)\n",
    "\n",
    "In this section, we will use web scraping to gather transaction data from the Ethereum blockchain using the Etherscan block explorer. Our objective is to collect transactions from the **last 10 blocks** on Ethereum.\n",
    "\n",
    "To accomplish this task, we will employ web scraping techniques to extract the transaction data from the Etherscan website. The URL we will be targeting for our data collection is:\n",
    "\n",
    "[https://etherscan.io/txs](https://etherscan.io/txs)\n",
    "\n",
    "### Steps\n",
    "\n",
    "1. **Navigate to the URL**: Use Selenium to open the Etherscan transactions page in a browser.\n",
    "\n",
    "2. **Locate the Transaction Data**: Identify the HTML elements that contain the transaction data for the specified block range.\n",
    "\n",
    "3. **Extract the Data**: Write a script to extract the transaction details e.g. Hash, Method, Block, etc.\n",
    "\n",
    "4. **Handle Pagination**: If the transactions span multiple pages, implement pagination handling to navigate through the pages and collect all relevant transaction data.\n",
    "\n",
    "5. **Store the Data**: Save the extracted transaction data into a structured format, such as a CSV file or a pandas DataFrame, for further analysis.\n",
    "\n",
    "### Considerations\n",
    "\n",
    "- **Rate Limiting**: Be mindful of the website's rate limits to avoid being blocked. Implement delays between requests if necessary.\n",
    "- **Dynamic Content**: The Etherscan website may load content dynamically. Ensure that Selenium waits for the necessary elements to load before attempting to scrape the data.\n",
    "- **Data Cleaning**: After extraction, clean the data to remove any inconsistencies or errors that may have occurred during the scraping process.\n",
    "\n",
    "### Resources\n",
    "\n",
    "- [Beautiful Soup Documentation](https://www.crummy.com/software/BeautifulSoup/bs4/doc/)\n",
    "- [Selenium Documentation](https://selenium-python.readthedocs.io/)\n",
    "- [Pandas Documentation](https://pandas.pydata.org/docs/)\n",
    "- [Ethereum](https://ethereum.org/en/)"
   ]
  },
  {
   "cell_type": "markdown",
   "id": "9ff37297",
   "metadata": {},
   "source": [
    "import necessary libraries"
   ]
  },
  {
   "cell_type": "code",
   "execution_count": 1,
   "id": "54fa10db-ec9e-4921-870a-50066926ed2d",
   "metadata": {},
   "outputs": [],
   "source": [
    "from selenium import webdriver\n",
    "from selenium.webdriver.common.by import By\n",
    "import pandas as pd\n",
    "from io import StringIO"
   ]
  },
  {
   "cell_type": "markdown",
   "id": "462a540a",
   "metadata": {},
   "source": [
    "get FireFox Browser driver"
   ]
  },
  {
   "cell_type": "code",
   "execution_count": 2,
   "id": "eada0b9a",
   "metadata": {},
   "outputs": [],
   "source": [
    "driver = webdriver.Firefox()"
   ]
  },
  {
   "cell_type": "markdown",
   "id": "265a0fc3",
   "metadata": {},
   "source": [
    "define a function to wait for necessary dynamic contents like Age and Txn Fee titles to be displayed"
   ]
  },
  {
   "cell_type": "code",
   "execution_count": 3,
   "id": "861c888a",
   "metadata": {},
   "outputs": [],
   "source": [
    "def wait_until_age_title_be_displayed():\n",
    "    age_title = driver.find_element(By.XPATH, \"//a[@class='age-datetime-with-tooltip']\")\n",
    "    while not age_title.is_displayed():\n",
    "        pass\n",
    "\n",
    "def wait_until_txn_fee_title_be_displayed():\n",
    "    txn_fee_title = driver.find_element(By.XPATH, \"//a[@class='switch-txn-fee-gas-price']\")\n",
    "    while not txn_fee_title.is_displayed():\n",
    "        pass\n",
    "\n",
    "def wait_until_titles_be_displayed():\n",
    "    wait_until_age_title_be_displayed()\n",
    "    wait_until_txn_fee_title_be_displayed()"
   ]
  },
  {
   "cell_type": "markdown",
   "id": "64a5c09d",
   "metadata": {},
   "source": [
    "open Etherscan website and wait for necessary dynamic things"
   ]
  },
  {
   "cell_type": "code",
   "execution_count": 4,
   "id": "0680efcd",
   "metadata": {},
   "outputs": [],
   "source": [
    "driver.get(\"https://etherscan.io/txs\")\n",
    "\n",
    "wait_until_titles_be_displayed()"
   ]
  },
  {
   "cell_type": "markdown",
   "id": "501c49ed",
   "metadata": {},
   "source": [
    "click Age buttom to show time of transactions in Datetime Format to have better information about time of transactions"
   ]
  },
  {
   "cell_type": "code",
   "execution_count": 5,
   "id": "14319240",
   "metadata": {},
   "outputs": [],
   "source": [
    "age_buttom = driver.find_element(By.CLASS_NAME, 'age-datetime-with-tooltip')\n",
    "age_buttom.click()"
   ]
  },
  {
   "cell_type": "markdown",
   "id": "3e03adfb",
   "metadata": {},
   "source": [
    "Now, we want to figure out last enable block number\n",
    "\n",
    "we do it with find last transaction block element and read its text"
   ]
  },
  {
   "cell_type": "code",
   "execution_count": 6,
   "id": "c84f4088",
   "metadata": {},
   "outputs": [],
   "source": [
    "table_body = driver.find_element(By.XPATH, \"//tbody[@class='align-middle text-nowrap']\")\n",
    "tabel_body_first_row = table_body.find_element(By.TAG_NAME, \"tr\")\n",
    "first_row_block = tabel_body_first_row.find_elements(By.TAG_NAME, \"td\")[3]\n",
    "block_buttom = first_row_block.find_element(By.TAG_NAME, \"a\")\n",
    "last_block_num = int(block_buttom.text)"
   ]
  },
  {
   "cell_type": "markdown",
   "id": "ac18e0fd",
   "metadata": {},
   "source": [
    "We define a function to handle pagination\n",
    "\n",
    "if it can go to next page return True else return False\n",
    "\n",
    "also we put one second sleep before clicking next page buttom because of rate limiting, but as we saw there isn't any need to it, so we commented it."
   ]
  },
  {
   "cell_type": "code",
   "execution_count": 7,
   "id": "107328f8",
   "metadata": {},
   "outputs": [],
   "source": [
    "import time\n",
    "from selenium.common.exceptions import NoSuchElementException\n",
    "\n",
    "def go_next_page():\n",
    "    try:\n",
    "        next_page_buttom = driver.find_element(By.XPATH, \"//a[@aria-label='Next']\")\n",
    "        # time.sleep(1)\n",
    "        next_page_buttom.click()\n",
    "        return True\n",
    "    except NoSuchElementException:\n",
    "        return False"
   ]
  },
  {
   "cell_type": "markdown",
   "id": "bb78ddbc",
   "metadata": {},
   "source": [
    "This function when called on a page, reads its transactions table until last page.\n",
    "\n",
    "here we read transactions table with pandas.read_html function. at first we used BeautifulSoup libarary to do it (as shown in next code block), but we figure out pandas can read it from page source directly, so change a code a little."
   ]
  },
  {
   "cell_type": "code",
   "execution_count": 8,
   "id": "7e651c68",
   "metadata": {},
   "outputs": [],
   "source": [
    "def get_transactions_table():\n",
    "    wait_until_titles_be_displayed()\n",
    "    transactions_table = pd.read_html(StringIO(driver.page_source))\n",
    "    \n",
    "    while go_next_page():\n",
    "        wait_until_titles_be_displayed()\n",
    "        transactions_table += pd.read_html(StringIO(driver.page_source))\n",
    "\n",
    "    transactions_table = pd.concat(transactions_table, ignore_index=True)\n",
    "    return transactions_table"
   ]
  },
  {
   "cell_type": "markdown",
   "id": "69970a23",
   "metadata": {},
   "source": [
    "at first we used BeautifulSoup libarary"
   ]
  },
  {
   "cell_type": "code",
   "execution_count": 9,
   "id": "4f4894bf",
   "metadata": {},
   "outputs": [],
   "source": [
    "# from bs4 import BeautifulSoup\n",
    "\n",
    "# soup = BeautifulSoup(driver.page_source)\n",
    "# soup_table = soup.find('table')\n",
    "# transactions_table = pd.read_html(StringIO(str(soup_table)))"
   ]
  },
  {
   "cell_type": "markdown",
   "id": "9c81d1ba",
   "metadata": {},
   "source": [
    "this function get a block number and then open its specific page and then read that block transactions.\n",
    "\n",
    "Because of this way we don't have any duplicated data."
   ]
  },
  {
   "cell_type": "code",
   "execution_count": 10,
   "id": "8a7992c0",
   "metadata": {},
   "outputs": [],
   "source": [
    "def get_block(block_num):\n",
    "    driver.get(f\"https://etherscan.io/txs?block={block_num}\")\n",
    "    transactions_table = get_transactions_table()\n",
    "    return transactions_table"
   ]
  },
  {
   "cell_type": "markdown",
   "id": "53f5c19c",
   "metadata": {},
   "source": [
    "in this for loop we read 10 blocks transactions and close the browser"
   ]
  },
  {
   "cell_type": "code",
   "execution_count": 11,
   "id": "70632a42",
   "metadata": {},
   "outputs": [],
   "source": [
    "blocks = []\n",
    "for i in range(10):\n",
    "    blocks.append(get_block(last_block_num - i))\n",
    "driver.quit()"
   ]
  },
  {
   "cell_type": "markdown",
   "id": "88b6cad5",
   "metadata": {},
   "source": [
    "output is like this"
   ]
  },
  {
   "cell_type": "code",
   "execution_count": 12,
   "id": "6051029f",
   "metadata": {},
   "outputs": [
    {
     "data": {
      "text/html": [
       "<div>\n",
       "<style scoped>\n",
       "    .dataframe tbody tr th:only-of-type {\n",
       "        vertical-align: middle;\n",
       "    }\n",
       "\n",
       "    .dataframe tbody tr th {\n",
       "        vertical-align: top;\n",
       "    }\n",
       "\n",
       "    .dataframe thead th {\n",
       "        text-align: right;\n",
       "    }\n",
       "</style>\n",
       "<table border=\"1\" class=\"dataframe\">\n",
       "  <thead>\n",
       "    <tr style=\"text-align: right;\">\n",
       "      <th></th>\n",
       "      <th>Unnamed: 0</th>\n",
       "      <th>Txn Hash</th>\n",
       "      <th>Method</th>\n",
       "      <th>Block</th>\n",
       "      <th>Date Time (UTC)</th>\n",
       "      <th>From</th>\n",
       "      <th>Unnamed: 6</th>\n",
       "      <th>To</th>\n",
       "      <th>Value</th>\n",
       "      <th>Txn Fee</th>\n",
       "    </tr>\n",
       "  </thead>\n",
       "  <tbody>\n",
       "    <tr>\n",
       "      <th>0</th>\n",
       "      <td>NaN</td>\n",
       "      <td>0x1ab6db9fe1254afaac74a44e0f1d69d370dcaffb2c6b...</td>\n",
       "      <td>Transfer</td>\n",
       "      <td>19393531</td>\n",
       "      <td>2024-03-08 22:59:35</td>\n",
       "      <td>0x8186b214...A30EE8810</td>\n",
       "      <td>NaN</td>\n",
       "      <td>0x5d0081A3...60aE5d394</td>\n",
       "      <td>0.112422227 ETH</td>\n",
       "      <td>0.001160</td>\n",
       "    </tr>\n",
       "    <tr>\n",
       "      <th>1</th>\n",
       "      <td>NaN</td>\n",
       "      <td>0x70879b829bc9737a5f03b82e07dd15c684e708365390...</td>\n",
       "      <td>Transfer</td>\n",
       "      <td>19393531</td>\n",
       "      <td>2024-03-08 22:59:35</td>\n",
       "      <td>0x4F3dA300...40773DaE5</td>\n",
       "      <td>NaN</td>\n",
       "      <td>SingularityDAO: SDAO Token</td>\n",
       "      <td>0 ETH</td>\n",
       "      <td>0.003667</td>\n",
       "    </tr>\n",
       "    <tr>\n",
       "      <th>2</th>\n",
       "      <td>NaN</td>\n",
       "      <td>0x0d5e1c359bf6bad9730d057779a9cae1891a117eedc6...</td>\n",
       "      <td>Transfer</td>\n",
       "      <td>19393531</td>\n",
       "      <td>2024-03-08 22:59:35</td>\n",
       "      <td>0x00B6A43c...644A69b79</td>\n",
       "      <td>NaN</td>\n",
       "      <td>Circle: USDC Token</td>\n",
       "      <td>0 ETH</td>\n",
       "      <td>0.003173</td>\n",
       "    </tr>\n",
       "    <tr>\n",
       "      <th>3</th>\n",
       "      <td>NaN</td>\n",
       "      <td>0xfec500fc2d07609501f3bef3f50205c5aadbe3047607...</td>\n",
       "      <td>Transfer</td>\n",
       "      <td>19393531</td>\n",
       "      <td>2024-03-08 22:59:35</td>\n",
       "      <td>0xCaC95e14...8B37B7Ef4</td>\n",
       "      <td>NaN</td>\n",
       "      <td>Wilder World: WILD Token</td>\n",
       "      <td>0 ETH</td>\n",
       "      <td>0.003525</td>\n",
       "    </tr>\n",
       "    <tr>\n",
       "      <th>4</th>\n",
       "      <td>NaN</td>\n",
       "      <td>0x92f845245ff5876b90dd93837e70533eef9cf2ea98c2...</td>\n",
       "      <td>Approve</td>\n",
       "      <td>19393531</td>\n",
       "      <td>2024-03-08 22:59:35</td>\n",
       "      <td>0x20799b0a...8b5892D91</td>\n",
       "      <td>NaN</td>\n",
       "      <td>Jarvis Network: JRT Token</td>\n",
       "      <td>0 ETH</td>\n",
       "      <td>0.001988</td>\n",
       "    </tr>\n",
       "    <tr>\n",
       "      <th>...</th>\n",
       "      <td>...</td>\n",
       "      <td>...</td>\n",
       "      <td>...</td>\n",
       "      <td>...</td>\n",
       "      <td>...</td>\n",
       "      <td>...</td>\n",
       "      <td>...</td>\n",
       "      <td>...</td>\n",
       "      <td>...</td>\n",
       "      <td>...</td>\n",
       "    </tr>\n",
       "    <tr>\n",
       "      <th>273</th>\n",
       "      <td>NaN</td>\n",
       "      <td>0x98ef1894fe446439aeb4443613a5f86ae50d5fc3a313...</td>\n",
       "      <td>0x5809d496</td>\n",
       "      <td>19393531</td>\n",
       "      <td>2024-03-08 22:59:35</td>\n",
       "      <td>0x315D2Ee4...04F8D9EbA</td>\n",
       "      <td>NaN</td>\n",
       "      <td>0x738e79fB...f61502221</td>\n",
       "      <td>0 ETH</td>\n",
       "      <td>0.010561</td>\n",
       "    </tr>\n",
       "    <tr>\n",
       "      <th>274</th>\n",
       "      <td>NaN</td>\n",
       "      <td>0xd14975e333a42da048588c7caa4cfcf29306f8141d0c...</td>\n",
       "      <td>0xff000000</td>\n",
       "      <td>19393531</td>\n",
       "      <td>2024-03-08 22:59:35</td>\n",
       "      <td>0x000000fF...810A640E8</td>\n",
       "      <td>NaN</td>\n",
       "      <td>0x5079FC00...E000008b6</td>\n",
       "      <td>0 ETH</td>\n",
       "      <td>0.064148</td>\n",
       "    </tr>\n",
       "    <tr>\n",
       "      <th>275</th>\n",
       "      <td>NaN</td>\n",
       "      <td>0xbc97bf130abf23925c2f10c063f7a3d72bc63ab4f57c...</td>\n",
       "      <td>Execute</td>\n",
       "      <td>19393531</td>\n",
       "      <td>2024-03-08 22:59:35</td>\n",
       "      <td>0x4b890FaC...F721D7b51</td>\n",
       "      <td>NaN</td>\n",
       "      <td>Uniswap: Universal Router</td>\n",
       "      <td>0 ETH</td>\n",
       "      <td>0.015971</td>\n",
       "    </tr>\n",
       "    <tr>\n",
       "      <th>276</th>\n",
       "      <td>NaN</td>\n",
       "      <td>0xd00815a96c9d9c198b9082a33bdd8605b7a7b1bb0dc6...</td>\n",
       "      <td>0x2f6f8019</td>\n",
       "      <td>19393531</td>\n",
       "      <td>2024-03-08 22:59:35</td>\n",
       "      <td>0x6686B1Ff...CcE09b11e</td>\n",
       "      <td>NaN</td>\n",
       "      <td>0xF67d5Fe8...EA6d58BC4</td>\n",
       "      <td>0.054989519 ETH</td>\n",
       "      <td>0.001622</td>\n",
       "    </tr>\n",
       "    <tr>\n",
       "      <th>277</th>\n",
       "      <td>NaN</td>\n",
       "      <td>0x178cab6431df93c0c6a6bfaa26a64a7cd724b3b9be34...</td>\n",
       "      <td>Swap Exact Token...</td>\n",
       "      <td>19393531</td>\n",
       "      <td>2024-03-08 22:59:35</td>\n",
       "      <td>0x222F474C...752333b7E</td>\n",
       "      <td>NaN</td>\n",
       "      <td>Uniswap V2: Router 2</td>\n",
       "      <td>0 ETH</td>\n",
       "      <td>0.006193</td>\n",
       "    </tr>\n",
       "  </tbody>\n",
       "</table>\n",
       "<p>278 rows × 10 columns</p>\n",
       "</div>"
      ],
      "text/plain": [
       "     Unnamed: 0                                           Txn Hash  \\\n",
       "0           NaN  0x1ab6db9fe1254afaac74a44e0f1d69d370dcaffb2c6b...   \n",
       "1           NaN  0x70879b829bc9737a5f03b82e07dd15c684e708365390...   \n",
       "2           NaN  0x0d5e1c359bf6bad9730d057779a9cae1891a117eedc6...   \n",
       "3           NaN  0xfec500fc2d07609501f3bef3f50205c5aadbe3047607...   \n",
       "4           NaN  0x92f845245ff5876b90dd93837e70533eef9cf2ea98c2...   \n",
       "..          ...                                                ...   \n",
       "273         NaN  0x98ef1894fe446439aeb4443613a5f86ae50d5fc3a313...   \n",
       "274         NaN  0xd14975e333a42da048588c7caa4cfcf29306f8141d0c...   \n",
       "275         NaN  0xbc97bf130abf23925c2f10c063f7a3d72bc63ab4f57c...   \n",
       "276         NaN  0xd00815a96c9d9c198b9082a33bdd8605b7a7b1bb0dc6...   \n",
       "277         NaN  0x178cab6431df93c0c6a6bfaa26a64a7cd724b3b9be34...   \n",
       "\n",
       "                  Method     Block      Date Time (UTC)  \\\n",
       "0               Transfer  19393531  2024-03-08 22:59:35   \n",
       "1               Transfer  19393531  2024-03-08 22:59:35   \n",
       "2               Transfer  19393531  2024-03-08 22:59:35   \n",
       "3               Transfer  19393531  2024-03-08 22:59:35   \n",
       "4                Approve  19393531  2024-03-08 22:59:35   \n",
       "..                   ...       ...                  ...   \n",
       "273           0x5809d496  19393531  2024-03-08 22:59:35   \n",
       "274           0xff000000  19393531  2024-03-08 22:59:35   \n",
       "275              Execute  19393531  2024-03-08 22:59:35   \n",
       "276           0x2f6f8019  19393531  2024-03-08 22:59:35   \n",
       "277  Swap Exact Token...  19393531  2024-03-08 22:59:35   \n",
       "\n",
       "                       From Unnamed: 6                          To  \\\n",
       "0    0x8186b214...A30EE8810        NaN      0x5d0081A3...60aE5d394   \n",
       "1    0x4F3dA300...40773DaE5        NaN  SingularityDAO: SDAO Token   \n",
       "2    0x00B6A43c...644A69b79        NaN          Circle: USDC Token   \n",
       "3    0xCaC95e14...8B37B7Ef4        NaN    Wilder World: WILD Token   \n",
       "4    0x20799b0a...8b5892D91        NaN   Jarvis Network: JRT Token   \n",
       "..                      ...        ...                         ...   \n",
       "273  0x315D2Ee4...04F8D9EbA        NaN      0x738e79fB...f61502221   \n",
       "274  0x000000fF...810A640E8        NaN      0x5079FC00...E000008b6   \n",
       "275  0x4b890FaC...F721D7b51        NaN   Uniswap: Universal Router   \n",
       "276  0x6686B1Ff...CcE09b11e        NaN      0xF67d5Fe8...EA6d58BC4   \n",
       "277  0x222F474C...752333b7E        NaN        Uniswap V2: Router 2   \n",
       "\n",
       "               Value   Txn Fee  \n",
       "0    0.112422227 ETH  0.001160  \n",
       "1              0 ETH  0.003667  \n",
       "2              0 ETH  0.003173  \n",
       "3              0 ETH  0.003525  \n",
       "4              0 ETH  0.001988  \n",
       "..               ...       ...  \n",
       "273            0 ETH  0.010561  \n",
       "274            0 ETH  0.064148  \n",
       "275            0 ETH  0.015971  \n",
       "276  0.054989519 ETH  0.001622  \n",
       "277            0 ETH  0.006193  \n",
       "\n",
       "[278 rows x 10 columns]"
      ]
     },
     "execution_count": 12,
     "metadata": {},
     "output_type": "execute_result"
    }
   ],
   "source": [
    "blocks[9]"
   ]
  },
  {
   "cell_type": "markdown",
   "id": "6a013b104d142cfc",
   "metadata": {
    "collapsed": false
   },
   "source": [
    "## Data Analysis\n",
    "\n",
    "Now that we have collected the transaction data from Etherscan, the next step is to perform conduct an initial analysis. This task will involve the following steps:\n",
    "\n",
    "1. **Load the Data**: Import the collected transaction data into a pandas DataFrame.\n",
    "\n",
    "2. **Data Cleaning**: Clean the data by converting data types, removing any irrelevant information, and handling **duplicate** values.\n",
    "\n",
    "3. **Statistical Analysis**: Calculate the mean and standard deviation of the population. Evaluate these statistics to understand the distribution of transaction values. The analysis and plotting will be on **Txn Fee** and **Value**.\n",
    "\n",
    "4. **Visualization**: This phase involves the creation of visual representations to aid in the analysis of transaction values. The visualizations include:\n",
    "    - A histogram for each data column, which provides a visual representation of the data distribution. The selection of bin size is crucial and should be based on the data's characteristics to ensure accurate representation. Provide an explanation on the bin size selection!\n",
    "    - A normal distribution plot fitted alongside the histogram to compare the empirical distribution of the data with the theoretical normal distribution.\n",
    "    - A box plot and a violin plot to identify outliers and provide a comprehensive view of the data's distribution.\n",
    "\n",
    "### Deliverables\n",
    "\n",
    "The project aims to deliver the following deliverables:\n",
    "\n",
    "- A refined pandas DataFrame containing the transaction data, which has undergone thorough cleaning and is ready for analysis.\n",
    "- A simple statistical analysis evaluating the population statistics, offering insights into the distribution of transaction values and fees.\n",
    "- A set of visualizations showcasing the distribution of transaction values for the population. These visualizations include histograms, normal distribution plots, box plots, and violin plots, each serving a specific purpose in the analysis.\n",
    "\n",
    "### Getting Started\n",
    "\n",
    "The project starts with the importing of transaction data into a pandas DataFrame, setting the stage for data manipulation and analysis. Subsequent steps involve the cleaning of the data to ensure its quality and reliability. Followed by the calculation of population statistics. Finally, a series of visualizations are created to visually analyze the distribution of transaction values and fees."
   ]
  },
  {
   "cell_type": "markdown",
   "id": "e95e5da5",
   "metadata": {},
   "source": [
    "because we don't need blocks separately so we concat them at first"
   ]
  },
  {
   "cell_type": "code",
   "execution_count": 13,
   "id": "f481b11a08d876b6",
   "metadata": {
    "ExecuteTime": {
     "end_time": "2024-02-25T14:02:12.152030482Z",
     "start_time": "2024-02-25T14:02:12.101846096Z"
    },
    "collapsed": false
   },
   "outputs": [],
   "source": [
    "transactions_table = pd.concat(blocks, ignore_index=True)"
   ]
  },
  {
   "cell_type": "markdown",
   "id": "4f604231",
   "metadata": {},
   "source": [
    "first column of table is for preview of the transactions details buttom so we don't need it"
   ]
  },
  {
   "cell_type": "code",
   "execution_count": 14,
   "id": "b2b73b26",
   "metadata": {},
   "outputs": [],
   "source": [
    "transactions_table.drop(transactions_table.columns[0], axis=1, inplace=True)"
   ]
  },
  {
   "cell_type": "markdown",
   "id": "96864cb2",
   "metadata": {},
   "source": [
    "seventh column of the table shows that some of transactoins are SELF transaction,\n",
    "but it don't have name, so we name it 'Is SELF' and set the value of those that are SELF to 'True' and the rest to 'False' "
   ]
  },
  {
   "cell_type": "code",
   "execution_count": 15,
   "id": "d4e6c169",
   "metadata": {},
   "outputs": [],
   "source": [
    "transactions_table = transactions_table.rename(columns={'Unnamed: 6':'Is SELF'})\n",
    "transactions_table = transactions_table.fillna(0)\n",
    "transactions_table = transactions_table.astype({'Is SELF': bool})"
   ]
  },
  {
   "cell_type": "markdown",
   "id": "2a9df586",
   "metadata": {},
   "source": [
    "Now, we want to change the type of Value column to float. first remove its unit and then remove any ',' character from it because in value greater than thousand there is a ',' between each three digit.\n",
    "\n",
    "to don't miss its unit we add it to the column name"
   ]
  },
  {
   "cell_type": "code",
   "execution_count": 16,
   "id": "6f3b1f2f",
   "metadata": {},
   "outputs": [],
   "source": [
    "transactions_table['Value'] = transactions_table['Value'].apply(lambda value: float(value.split()[0].replace(',', '')))\n",
    "transactions_table = transactions_table.rename(columns={'Value':'Value (ETH)'})"
   ]
  },
  {
   "cell_type": "markdown",
   "id": "4377c28f",
   "metadata": {},
   "source": [
    "at first we got data from main page, but it was possible to miss some data and also had too many duplication. so we changed our alghorithm and collect data for each block separately from its own page. that's why out data don't have any duplications."
   ]
  },
  {
   "cell_type": "markdown",
   "id": "4d62d356",
   "metadata": {},
   "source": [
    "here we calculate mean and standard deviation for valuea and txn fees"
   ]
  },
  {
   "cell_type": "code",
   "execution_count": 17,
   "id": "61ce19d8",
   "metadata": {},
   "outputs": [
    {
     "name": "stdout",
     "output_type": "stream",
     "text": [
      "Value mean:     1.77669\n",
      "Value std:      20.83736\n",
      "Txn Fee mean:   0.00574\n",
      "Txn Fee std:    0.02446\n"
     ]
    }
   ],
   "source": [
    "value_mean = transactions_table['Value (ETH)'].mean()\n",
    "value_std = transactions_table['Value (ETH)'].std()\n",
    "\n",
    "print(f'Value mean:     {value_mean:.5f}')\n",
    "print(f'Value std:      {value_std:.5f}')\n",
    "\n",
    "txn_fee_mean = transactions_table['Txn Fee'].mean()\n",
    "txn_fee_std = transactions_table['Txn Fee'].std()\n",
    "\n",
    "print(f'Txn Fee mean:   {txn_fee_mean:.5f}')\n",
    "print(f'Txn Fee std:    {txn_fee_std:.5f}')"
   ]
  },
  {
   "cell_type": "markdown",
   "id": "aaee8960",
   "metadata": {},
   "source": [
    "ethereum transaction are very big data and they base on many parameters. they also have some parameters base on human decisions. it exists all over the world with any kinds of people. and some things like this.\n",
    "\n",
    "Because of this breadth, it will be near to normal distrubiution as we conclude that from Central limit theorem.(it's possible it has some outliers)"
   ]
  },
  {
   "cell_type": "markdown",
   "id": "fa22d151",
   "metadata": {},
   "source": [
    "import necessary libararies for visualization"
   ]
  },
  {
   "cell_type": "code",
   "execution_count": 18,
   "id": "3fae5e45",
   "metadata": {},
   "outputs": [],
   "source": [
    "import numpy as np\n",
    "import matplotlib.pyplot as plt\n",
    "from scipy.stats import norm"
   ]
  },
  {
   "cell_type": "markdown",
   "id": "ed711c6d",
   "metadata": {},
   "source": [
    "at first when we drew value histogram, because of its many zeros, we saw a histogram with one tall column for zeros and the rest of data like a normal distrubiution.\n",
    "\n",
    "so to have a better view of values and can fitt the histogram to normal plot better, we ignore the zero valuse.\n",
    "\n",
    "but there was another problem. values were too near to zero. to solve it we get logarithm from them.\n",
    "\n",
    "because our data wasn't constant, so we couldn't set constant bins for histogram. so we use numpy.histogram_bin_edges function with 'auto' estimator. this estimator is maximum of the ‘sturges’ and ‘Freedman Diaconis’ estimators.\n",
    "\n",
    "Freedman Diaconis: Robust (resilient to outliers) estimator that takes into account data variability and data size.\n",
    "\n",
    "sturges: R’s default method, only accounts for data size. Only optimal for gaussian data and underestimates number of bins for large non-gaussian datasets.\n",
    "\n",
    "because out data is normal and has many outliers we used 'auto'"
   ]
  },
  {
   "cell_type": "code",
   "execution_count": 19,
   "id": "742ebe16",
   "metadata": {},
   "outputs": [
    {
     "data": {
      "image/png": "[encoded data removed]",
      "text/plain": [
       "<Figure size 640x480 with 1 Axes>"
      ]
     },
     "metadata": {},
     "output_type": "display_data"
    }
   ],
   "source": [
    "non_zero_values = transactions_table[transactions_table['Value (ETH)'] != 0]['Value (ETH)']\n",
    "log_values = np.log(non_zero_values)\n",
    "bins_values = np.histogram_bin_edges(log_values, bins='auto')\n",
    "x_values = np.linspace(log_values.min(), log_values.max())\n",
    "\n",
    "plt.hist(log_values, bins=bins_values, density=True)\n",
    "plt.plot(x_values, norm.pdf(x_values, log_values.mean(), log_values.std()))\n",
    "plt.title('log Value')\n",
    "\n",
    "plt.show()"
   ]
  },
  {
   "cell_type": "markdown",
   "id": "e6f56697",
   "metadata": {},
   "source": [
    "in Txn Fee we had another problem. like value got logarithm from them. but they were much closer to zero, so we decide to got another logarithm, but some of them were negetive. therefore we add them with minimum of them. by doing this the minimum equals to zero and the rest will be greater than zero. now we can get logarithm from them exept the minimum."
   ]
  },
  {
   "cell_type": "code",
   "execution_count": 20,
   "id": "4008ad6a",
   "metadata": {},
   "outputs": [
    {
     "data": {
      "image/png": "[encoded data removed]",
      "text/plain": [
       "<Figure size 640x480 with 1 Axes>"
      ]
     },
     "metadata": {},
     "output_type": "display_data"
    }
   ],
   "source": [
    "txn_fees = transactions_table['Txn Fee']\n",
    "log_txn_fees = np.log(txn_fees)\n",
    "log_txn_fees_shifted_to_positives = log_txn_fees - log_txn_fees.min()\n",
    "log_log_txn_fees = np.log(log_txn_fees_shifted_to_positives[log_txn_fees_shifted_to_positives != 0])\n",
    "bins_txn_fees = np.histogram_bin_edges(log_log_txn_fees, bins='auto')\n",
    "x_txn_fees = np.linspace(log_log_txn_fees.min(), log_log_txn_fees.max())\n",
    "\n",
    "plt.hist(log_log_txn_fees, bins=bins_txn_fees, density=True)\n",
    "plt.plot(x_txn_fees, norm.pdf(x_txn_fees, log_log_txn_fees.mean(), log_log_txn_fees.std()))\n",
    "plt.title('log log Txn Fee')\n",
    "\n",
    "plt.show()"
   ]
  },
  {
   "cell_type": "markdown",
   "id": "8fc83689",
   "metadata": {},
   "source": [
    "Draw box plot and violin plot\n",
    "\n",
    "as we sea both data have many outliers. and also txn fee don't have normal distrubiution"
   ]
  },
  {
   "cell_type": "code",
   "execution_count": 21,
   "id": "c79cba8c",
   "metadata": {},
   "outputs": [
    {
     "data": {
      "image/png": "[encoded data removed]",
      "text/plain": [
       "<Figure size 640x480 with 4 Axes>"
      ]
     },
     "metadata": {},
     "output_type": "display_data"
    }
   ],
   "source": [
    "plt.subplot(221)\n",
    "plt.boxplot(log_values)\n",
    "plt.title('log Value box plot')\n",
    "\n",
    "plt.subplot(222)\n",
    "plt.violinplot(log_values)\n",
    "plt.title('log Value violin plot')\n",
    "\n",
    "plt.subplot(223)\n",
    "plt.boxplot(log_log_txn_fees)\n",
    "plt.title('log log Txn Fee box plot')\n",
    "\n",
    "plt.subplot(224)\n",
    "plt.violinplot(log_log_txn_fees)\n",
    "plt.title('log log Txn Fee violin plot')\n",
    "\n",
    "plt.show()"
   ]
  },
  {
   "attachments": {
    "image.png": {
     "image/png": "[encoded data removed]"
    }
   },
   "cell_type": "markdown",
   "id": "e03d9c9d",
   "metadata": {},
   "source": [
    "to have a better view for distrubiution of data, we definde a function to delete outliers with Tukey's fences method.\n",
    "\n",
    "base on this method, then one could define an outlier to be any observation outside the range:\n",
    "\n",
    "![image.png](attachment:image.png)\n",
    "\n",
    "where k = 1.5 indicates an \"outlier\""
   ]
  },
  {
   "cell_type": "code",
   "execution_count": 22,
   "id": "9613c9ac",
   "metadata": {},
   "outputs": [],
   "source": [
    "def remove_outliers(data, whis=1.5):\n",
    "    data = np.array(data)\n",
    "    Q1 = np.quantile(data, 0.25)\n",
    "    Q3 = np.quantile(data, 0.75)\n",
    "    IQR = Q3 - Q1\n",
    "\n",
    "    filtered_data_index = np.where(np.logical_and(data > Q1 - whis*IQR, data < Q3 + whis*IQR))\n",
    "    return data[filtered_data_index]"
   ]
  },
  {
   "cell_type": "markdown",
   "id": "b7cbe8d8",
   "metadata": {},
   "source": [
    "as we sea in this case, values historram is fitted to normal distrubiution, but txn fee isn't that maybe shows that there is a classification for txn fees with two classes."
   ]
  },
  {
   "cell_type": "code",
   "execution_count": 23,
   "id": "c3c25d72",
   "metadata": {},
   "outputs": [
    {
     "data": {
      "image/png": "[encoded data removed]",
      "text/plain": [
       "<Figure size 640x480 with 2 Axes>"
      ]
     },
     "metadata": {},
     "output_type": "display_data"
    }
   ],
   "source": [
    "log_clean_values = remove_outliers(log_values)\n",
    "log_log_clean_txn_fees = remove_outliers(log_log_txn_fees)\n",
    "\n",
    "bins_clean_values = np.histogram_bin_edges(log_clean_values, bins='auto')\n",
    "x_clean_values = np.linspace(log_clean_values.min(), log_clean_values.max())\n",
    "\n",
    "bins_clean_txn_fees = np.histogram_bin_edges(log_log_clean_txn_fees, bins='auto')\n",
    "x_clean_txn_fees = np.linspace(log_log_clean_txn_fees.min(), log_log_clean_txn_fees.max())\n",
    "\n",
    "plt.subplot(211)\n",
    "plt.hist(log_clean_values, bins=bins_clean_values, density=True)\n",
    "plt.plot(x_clean_values, norm.pdf(x_clean_values, log_clean_values.mean(), log_clean_values.std()))\n",
    "plt.title('log Value')\n",
    "\n",
    "plt.subplot(212)\n",
    "plt.hist(log_log_clean_txn_fees, bins=bins_clean_txn_fees, density=True)\n",
    "plt.plot(x_clean_txn_fees, norm.pdf(x_clean_txn_fees, log_log_clean_txn_fees.mean(), log_log_clean_txn_fees.std()))\n",
    "plt.title('log log Txn Fee')\n",
    "\n",
    "plt.show()"
   ]
  },
  {
   "cell_type": "markdown",
   "id": "87030e5e0b4fe1e6",
   "metadata": {
    "collapsed": false
   },
   "source": [
    "## Data Sampling and Analysis\n",
    "\n",
    "In this section, we will delve into the process of data sampling and perform an initial analysis on the transaction data we have collected. Our objective is to understand the distribution of transaction values by sampling the data and comparing the sample statistics with the population statistics.\n",
    "\n",
    "### Steps\n",
    "\n",
    "1. **Load the Data**: Import the collected transaction data into a pandas DataFrame.\n",
    "\n",
    "2. **Data Cleaning**: Clean the data by handling missing values, converting data types, and removing any irrelevant information.\n",
    "\n",
    "3. **Simple Random Sampling (SRS)**: Create a sample from the dataset using a simple random sampling method. This involves randomly selecting a subset of the data without regard to any specific characteristics of the data.\n",
    "\n",
    "4. **Stratified Sampling**: Create another sample from the dataset using a stratified sampling method. This involves dividing the data into strata based on a specific characteristic (e.g., transaction value) and then randomly selecting samples from each stratum. Explain what you have stratified the data by and why you chose this column.\n",
    "\n",
    "5. **Statistical Analysis**: Calculate the mean and standard deviation of the samples and the population. Compare these statistics to understand the distribution of transaction values.\n",
    "\n",
    "6. **Visualization**: Plot the distribution of transaction values and fees for both the samples and the population to visually compare their distributions.\n",
    "\n",
    "### Considerations\n",
    "\n",
    "- **Sample Size**: The size of the sample should be large enough to represent the population accurately but not so large that it becomes impractical to analyze.\n",
    "- **Sampling Method**: Choose the appropriate sampling method based on the characteristics of the data and the research question.\n",
    "\n",
    "Explain the above considerations in your report."
   ]
  },
  {
   "cell_type": "markdown",
   "id": "66ccaf28",
   "metadata": {},
   "source": [
    "we get random sample with size of 10% of population size, because of some researches it is an appropriate for alomost every sampling base on experiment\n",
    "\n",
    "our sample size shouldn't be too small because it won't contain all necessary data from population and won't be a good representation of population.\n",
    "\n",
    "also sample size shouldn't be too large, because we need independency between samples."
   ]
  },
  {
   "cell_type": "code",
   "execution_count": 24,
   "id": "4f6becd41f9b2393",
   "metadata": {
    "ExecuteTime": {
     "end_time": "2024-02-27T19:36:26.333480965Z",
     "start_time": "2024-02-27T19:36:26.324023052Z"
    },
    "collapsed": false
   },
   "outputs": [],
   "source": [
    "random_sample = transactions_table.sample(frac=0.1)"
   ]
  },
  {
   "cell_type": "markdown",
   "id": "6c6f1471",
   "metadata": {},
   "source": [
    "for stratified sampling we group our data base on Value column, because it is more important parameter and also as we saw it has normal distrubiution.\n",
    "\n",
    "to group our data we use np.histogram_bin_edges function with 'auto' method as explained before.\n",
    "\n",
    "(in this case because of our way to collect sample, our sample was either less than 5% of population when frac=0.1, so this time we changed it to frac=0.2)"
   ]
  },
  {
   "cell_type": "code",
   "execution_count": 25,
   "id": "027458a0",
   "metadata": {},
   "outputs": [
    {
     "name": "stderr",
     "output_type": "stream",
     "text": [
      "/tmp/ipykernel_26018/1565913031.py:3: FutureWarning: The default of observed=False is deprecated and will be changed to True in a future version of pandas. Pass observed=False to retain current behavior or observed=True to adopt the future default and silence this warning.\n",
      "  stratified_sample = transactions_table.groupby('group', group_keys=False).apply(lambda x: x.sample(frac=0.2))\n"
     ]
    },
    {
     "name": "stderr",
     "output_type": "stream",
     "text": [
      "/tmp/ipykernel_26018/1565913031.py:3: DeprecationWarning: DataFrameGroupBy.apply operated on the grouping columns. This behavior is deprecated, and in a future version of pandas the grouping columns will be excluded from the operation. Either pass `include_groups=False` to exclude the groupings or explicitly select the grouping columns after groupby to silence this warning.\n",
      "  stratified_sample = transactions_table.groupby('group', group_keys=False).apply(lambda x: x.sample(frac=0.2))\n"
     ]
    }
   ],
   "source": [
    "bins = np.histogram_bin_edges(transactions_table['Value (ETH)'], bins='auto')\n",
    "transactions_table['group'] = pd.cut(transactions_table['Value (ETH)'], bins=bins)\n",
    "stratified_sample = transactions_table.groupby('group', group_keys=False).apply(lambda x: x.sample(frac=0.2))"
   ]
  },
  {
   "cell_type": "markdown",
   "id": "d657ccce",
   "metadata": {},
   "source": [
    "here we calculate population and sampleing mean and standard deviation for Value and Txn Fee column.\n",
    "\n",
    "as we see, mean and std of population is much bigger, because out data has much outliers with large values."
   ]
  },
  {
   "cell_type": "code",
   "execution_count": 26,
   "id": "9caae710",
   "metadata": {},
   "outputs": [
    {
     "name": "stdout",
     "output_type": "stream",
     "text": [
      "Population Value mean:          1.77669\n",
      "Random Sample Value mean:       1.96364\n",
      "Stratified Sample Value mean:   1.80426\n",
      "\n",
      "\n",
      "Population Value std:           20.83736\n",
      "Random Sample Value std:        18.31364\n",
      "Stratified Sample Value std:    20.08339\n"
     ]
    }
   ],
   "source": [
    "value_mean = transactions_table['Value (ETH)'].mean()\n",
    "value_std = transactions_table['Value (ETH)'].std()\n",
    "\n",
    "random_value_mean = random_sample['Value (ETH)'].mean()\n",
    "random_value_std = random_sample['Value (ETH)'].std()\n",
    "\n",
    "stratified_value_mean = stratified_sample['Value (ETH)'].mean()\n",
    "stratified_value_std = stratified_sample['Value (ETH)'].std()\n",
    "\n",
    "print(f'Population Value mean:          {value_mean:.5f}')\n",
    "print(f'Random Sample Value mean:       {random_value_mean:.5f}')\n",
    "print(f'Stratified Sample Value mean:   {stratified_value_mean:.5f}')\n",
    "print('\\n')\n",
    "print(f'Population Value std:           {value_std:.5f}')\n",
    "print(f'Random Sample Value std:        {random_value_std:.5f}')\n",
    "print(f'Stratified Sample Value std:    {stratified_value_std:.5f}')"
   ]
  },
  {
   "cell_type": "code",
   "execution_count": 27,
   "id": "b2512371",
   "metadata": {},
   "outputs": [
    {
     "name": "stdout",
     "output_type": "stream",
     "text": [
      "Population Txn Fee mean:        0.00574\n",
      "Random Sample Txn Fee mean:     0.00552\n",
      "Stratified Sample Txn Fee mean: 0.00311\n",
      "\n",
      "\n",
      "Population Txn Fee std:         0.02446\n",
      "Random Sample Txn Fee std:      0.00943\n",
      "Stratified Sample Txn Fee std:  0.00398\n"
     ]
    }
   ],
   "source": [
    "txn_fee_mean = transactions_table['Txn Fee'].mean()\n",
    "txn_fee_std = transactions_table['Txn Fee'].std()\n",
    "\n",
    "random_txn_fee_mean = random_sample['Txn Fee'].mean()\n",
    "random_txn_fee_std = random_sample['Txn Fee'].std()\n",
    "\n",
    "stratified_txn_fee_mean = stratified_sample['Txn Fee'].mean()\n",
    "stratified_txn_fee_std = stratified_sample['Txn Fee'].std()\n",
    "\n",
    "print(f'Population Txn Fee mean:        {txn_fee_mean:.5f}')\n",
    "print(f'Random Sample Txn Fee mean:     {random_txn_fee_mean:.5f}')\n",
    "print(f'Stratified Sample Txn Fee mean: {stratified_txn_fee_mean:.5f}')\n",
    "print('\\n')\n",
    "print(f'Population Txn Fee std:         {txn_fee_std:.5f}')\n",
    "print(f'Random Sample Txn Fee std:      {random_txn_fee_std:.5f}')\n",
    "print(f'Stratified Sample Txn Fee std:  {stratified_txn_fee_std:.5f}')"
   ]
  },
  {
   "cell_type": "markdown",
   "id": "a81f09c1",
   "metadata": {},
   "source": [
    "now for draw their plot we do as same as polulation and delete zeros then get logarithm from samples values\n",
    "\n",
    "as we can see, histogram of stratified sample is much closer to population histogram than random sample."
   ]
  },
  {
   "cell_type": "code",
   "execution_count": 28,
   "id": "438ca8fd",
   "metadata": {},
   "outputs": [
    {
     "data": {
      "image/png": "[encoded data removed]",
      "text/plain": [
       "<Figure size 640x480 with 1 Axes>"
      ]
     },
     "metadata": {},
     "output_type": "display_data"
    }
   ],
   "source": [
    "non_zero_random_values = random_sample[random_sample['Value (ETH)'] != 0]['Value (ETH)']\n",
    "log_random_values = np.log(non_zero_random_values)\n",
    "\n",
    "non_zero_stratified_values = stratified_sample[stratified_sample['Value (ETH)'] != 0]['Value (ETH)']\n",
    "log_stratified_values = np.log(non_zero_stratified_values)\n",
    "\n",
    "plt.hist([log_values, log_random_values, log_stratified_values], bins=bins_values, density=True, label=['Population', 'Random Sample', 'Stratified Sample'])\n",
    "\n",
    "plt.legend()\n",
    "plt.show()"
   ]
  },
  {
   "cell_type": "markdown",
   "id": "07ba2838",
   "metadata": {},
   "source": [
    "in this case we do the same thing.\n",
    "\n",
    "the result shows that stratified sampling is better than random sampling."
   ]
  },
  {
   "cell_type": "code",
   "execution_count": 29,
   "id": "c14faf00",
   "metadata": {},
   "outputs": [
    {
     "data": {
      "image/png": "[encoded data removed]",
      "text/plain": [
       "<Figure size 640x480 with 1 Axes>"
      ]
     },
     "metadata": {},
     "output_type": "display_data"
    }
   ],
   "source": [
    "non_zero_random_txn_fees = random_sample[random_sample['Txn Fee'] != 0]['Txn Fee']\n",
    "log_random_txn_fees = np.log(non_zero_random_txn_fees)\n",
    "log_random_txn_fees_shifted_to_positives = log_random_txn_fees - log_random_txn_fees.min()\n",
    "log_log_random_txn_fees = np.log(log_random_txn_fees_shifted_to_positives[log_random_txn_fees_shifted_to_positives != 0])\n",
    "\n",
    "non_zero_stratified_txn_fees = stratified_sample[stratified_sample['Txn Fee'] != 0]['Txn Fee']\n",
    "log_stratified_txn_fees = np.log(non_zero_stratified_txn_fees)\n",
    "log_stratified_txn_fees_shifted_to_positives = log_stratified_txn_fees - log_stratified_txn_fees.min()\n",
    "log_log_stratified_txn_fees = np.log(log_stratified_txn_fees_shifted_to_positives[log_stratified_txn_fees_shifted_to_positives != 0])\n",
    "\n",
    "\n",
    "plt.hist([log_log_txn_fees, log_log_random_txn_fees, log_log_stratified_txn_fees], bins=bins_txn_fees, density=True, label=['Population', 'Random Sample', 'Stratified Sample'])\n",
    "\n",
    "plt.legend()\n",
    "plt.show()"
   ]
  },
  {
   "cell_type": "markdown",
   "id": "ebdd8861",
   "metadata": {},
   "source": [
    "### 1. What are some potential limitations when using web scraping for data collection? Specifically, what problems did you face while fetching data from Etherscan? What problems can these limitations cause in your analysis?\n",
    "\n",
    "1. Moving between pages to find the next block: In this case, when we went to the next page, there were some transactions from the previous page on this page. We solved this problem by changing the pagination algorithm method.\n",
    "Data duplicates our output statistics\n",
    "2. The presence of a different IP caused the site to recognize the robot and we were unable to continue scraping. that this challenge could be solved with stable internet access.\n",
    "3. The site notifications that were placed on the table elements also caused disruption during scraping"
   ]
  },
  {
   "cell_type": "markdown",
   "id": "29c5dc2c",
   "metadata": {},
   "source": [
    "### 2. What can make your analysis untrustworthy? What are your solutions?\n",
    "\n",
    "Incorrect or uncleaned data, as well as data duplication or data loss.\n",
    "For wrong data, we must first know the data we are working with. and remove outlier data.\n",
    "Or, to sample without removing zero values, we should have BIOS sampling and have only sampled a specific data, the solution of which is to use the appropriate sampling method."
   ]
  },
  {
   "cell_type": "markdown",
   "id": "eb33fc89",
   "metadata": {},
   "source": [
    "### 3. How did the visualization help you in understanding the data? What could you interpret from the plots?\n",
    "\n",
    "The use of visualization helped in understanding the data in several ways. Firstly, it simplified complex data by representing it in a more easily digestible format. Instead of dealing with raw numbers or extensive tables, visual elements such as charts, graphs, or diagrams provided a visual representation that made it easier to grasp the information at a glance.\n",
    "\n",
    "Secondly, visualization highlighted patterns and trends in the data. By presenting the data visually, it became easier to identify recurring patterns, trends, or anomalies that may not have been immediately apparent when looking at the raw data. Visualizations can effectively convey the relationships and dependencies between different variables, allowing analysts to identify correlations or causations.\n",
    "\n",
    "Lastly, visualization facilitated comparison of different data points or groups. By presenting the data visually, it became straightforward to compare and contrast different data sets or categories. This enabled analysts to identify similarities, differences, or relationships between various elements, which could further aid in drawing conclusions or making informed decisions based on the insights gained from the visualization."
   ]
  },
  {
   "cell_type": "markdown",
   "id": "d5c6fd32",
   "metadata": {},
   "source": [
    "### 4. How do the two sampling methods differ in their output? Compare these and explain which one is a better fit to the population.\n",
    "\n",
    "Simple sampling and stratified sampling are two different methods used in statistics to select a subset of individuals from a statistical population to estimate characteristics of the whole population. They differ in their approach and the type of data they are best suited for.\n",
    "\n",
    "Simple Sampling\n",
    "\n",
    "Definition: In simple sampling, each member of the population has an equal chance of being selected. This method is straightforward and does not require knowledge of the population's structure.\n",
    "\n",
    "Output: The output of simple sampling is a random sample that is representative of the population in terms of the characteristics being measured. However, it does not take into account any potential stratification within the population.\n",
    "Best Fit: Simple sampling is best suited for populations that are homogeneous or when the goal is to ensure that each member has an equal chance of being selected. It is not the best choice for populations that are stratified or when the goal is to ensure that each stratum is adequately represented in the sample.\n",
    "\n",
    "Stratified Sampling\n",
    "\n",
    "Definition: Stratified sampling involves dividing the population into subgroups (strata) based on a specific characteristic, and then taking a simple random sample from each stratum. This method ensures that each stratum is adequately represented in the sample.\n",
    "\n",
    "Output: The output of stratified sampling is a sample that is more representative of the population than a simple random sample, especially when the population is stratified. This method is particularly useful when the population is divided into distinct groups, and the goal is to ensure that each group is adequately represented in the sample.\n",
    "\n",
    "Best Fit: Stratified sampling is the better choice when the population is stratified, as it ensures that each stratum is adequately represented in the sample. This can lead to more accurate conclusions about the population.\n",
    "Comparison and Conclusion\n",
    "\n",
    "Representativeness: Stratified sampling is generally more representative of the population than simple sampling, especially when the population is stratified. This is because it ensures that each stratum is adequately represented in the sample.\n",
    "Complexity: Stratified sampling is more complex than simple sampling because it requires knowledge of the population's structure and the ability to divide the population into strata.\n",
    "\n",
    "In conclusion, the choice between simple sampling and stratified sampling depends on the characteristics of the population and the goals of the study. Stratified sampling is generally a better fit for populations that are stratified, as it ensures that each stratum is adequately represented in the sample, leading to more accurate conclusions about the population."
   ]
  }
 ],
 "metadata": {
  "kernelspec": {
   "display_name": "Python 3 (ipykernel)",
   "language": "python",
   "name": "python3"
  },
  "language_info": {
   "codemirror_mode": {
    "name": "ipython",
    "version": 3
   },
   "file_extension": ".py",
   "mimetype": "text/x-python",
   "name": "python",
   "nbconvert_exporter": "python",
   "pygments_lexer": "ipython3",
   "version": "3.12.2"
  }
 },
 "nbformat": 4,
 "nbformat_minor": 5
}
